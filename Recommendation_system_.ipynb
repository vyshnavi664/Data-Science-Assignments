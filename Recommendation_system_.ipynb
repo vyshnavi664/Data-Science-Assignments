{
 "cells": [
  {
   "cell_type": "code",
   "execution_count": 1,
   "id": "4fdd5db8-244d-424e-b442-2fa0d502f85b",
   "metadata": {},
   "outputs": [],
   "source": [
    "import pandas as pd\n",
    "from sklearn.metrics.pairwise import cosine_similarity\n",
    "from sklearn.preprocessing import LabelEncoder,StandardScaler"
   ]
  },
  {
   "cell_type": "code",
   "execution_count": 16,
   "id": "06a4aea0-8d69-418c-a03f-1753a37066ba",
   "metadata": {},
   "outputs": [],
   "source": [
    "# Load the dataset\n",
    "data = pd.read_csv(\"anime.csv\")"
   ]
  },
  {
   "cell_type": "code",
   "execution_count": 17,
   "id": "c637718f-5b73-4146-a047-335766e2f020",
   "metadata": {},
   "outputs": [
    {
     "name": "stdout",
     "output_type": "stream",
     "text": [
      "anime_id      0\n",
      "name          0\n",
      "genre        62\n",
      "type         25\n",
      "episodes      0\n",
      "rating      230\n",
      "members       0\n",
      "dtype: int64\n"
     ]
    }
   ],
   "source": [
    "missing_values = data.isnull().sum()\n",
    "print(missing_values)"
   ]
  },
  {
   "cell_type": "code",
   "execution_count": 19,
   "id": "a1224b3e-b7c9-4aa6-b598-ee1ec73f4de9",
   "metadata": {},
   "outputs": [],
   "source": [
    "# Handle missing values\n",
    "from sklearn.impute import SimpleImputer\n",
    "imputer = SimpleImputer(strategy='most_frequent')  # Replace missing values with most frequent value\n",
    "data['genre'] = imputer.fit_transform(data['genre'].values.reshape(-1, 1))\n",
    "data['type'] = imputer.fit_transform(data['type'].values.reshape(-1, 1))\n",
    "data['rating'] = imputer.fit_transform(data['rating'].values.reshape(-1, 1))\n"
   ]
  },
  {
   "cell_type": "code",
   "execution_count": 20,
   "id": "6de17c55-5444-437e-8143-0732bde5836f",
   "metadata": {},
   "outputs": [
    {
     "name": "stdout",
     "output_type": "stream",
     "text": [
      "<class 'pandas.core.frame.DataFrame'>\n",
      "Int64Index: 12294 entries, 0 to 12293\n",
      "Data columns (total 7 columns):\n",
      " #   Column    Non-Null Count  Dtype  \n",
      "---  ------    --------------  -----  \n",
      " 0   anime_id  12294 non-null  int64  \n",
      " 1   name      12294 non-null  object \n",
      " 2   genre     12294 non-null  object \n",
      " 3   type      12294 non-null  object \n",
      " 4   episodes  12294 non-null  object \n",
      " 5   rating    12294 non-null  float64\n",
      " 6   members   12294 non-null  int64  \n",
      "dtypes: float64(1), int64(2), object(4)\n",
      "memory usage: 768.4+ KB\n"
     ]
    }
   ],
   "source": [
    "data.info()"
   ]
  },
  {
   "cell_type": "code",
   "execution_count": 21,
   "id": "e46b1b59-5c93-404d-845e-ebbbbbee33fd",
   "metadata": {},
   "outputs": [],
   "source": [
    "# Label encode categorical features\n",
    "categorical_columns = ['genre', 'type']  \n",
    "le = LabelEncoder()\n",
    "for col in categorical_columns:\n",
    "    data[col] = le.fit_transform(data[col])\n"
   ]
  },
  {
   "cell_type": "code",
   "execution_count": 25,
   "id": "04601cc3-273c-4745-afcd-51ba8391f5ff",
   "metadata": {},
   "outputs": [],
   "source": [
    "# Normalize numerical features (if necessary)\n",
    "# Drop rows with \"unknown\" values in the 'episodes' column\n",
    "data = data[data['episodes'] != 'unknown']\n",
    " \n",
    "scaler = StandardScaler()\n",
    "data[['rating', 'members']] = scaler.fit_transform(data[['rating', 'members']])"
   ]
  },
  {
   "cell_type": "code",
   "execution_count": 26,
   "id": "82548948-f479-45c8-bae3-68a21b4f58c7",
   "metadata": {},
   "outputs": [],
   "source": [
    "# Select relevant features for similarity calculation\n",
    "features = ['genre', 'type', 'rating', 'members']"
   ]
  },
  {
   "cell_type": "code",
   "execution_count": 27,
   "id": "b01beb38-ac8a-410e-a95d-a4b3b914a678",
   "metadata": {},
   "outputs": [],
   "source": [
    "# Create a matrix of feature vectors\n",
    "feature_matrix = data[features].values\n"
   ]
  },
  {
   "cell_type": "code",
   "execution_count": 28,
   "id": "e4f17e94-9d34-4f6d-a802-7fad7d42429b",
   "metadata": {},
   "outputs": [],
   "source": [
    "# Calculate cosine similarity matrix\n",
    "similarity_matrix = cosine_similarity(feature_matrix)"
   ]
  },
  {
   "cell_type": "code",
   "execution_count": 29,
   "id": "9af98d3e-019f-480f-8adc-50086cef2e4b",
   "metadata": {},
   "outputs": [],
   "source": [
    "# Function to recommend anime\n",
    "def recommend_anime(target_anime_index):\n",
    "    similarities = similarity_matrix[target_anime_index]\n",
    "    top_similar_indices = similarities.argsort()[-10:][::-1]  # Get top 10 similar anime\n",
    "    recommended_anime = data.iloc[top_similar_indices]\n",
    "    return recommended_anime"
   ]
  },
  {
   "cell_type": "code",
   "execution_count": 30,
   "id": "9af6b98a-990e-431d-8f50-633501e9adb7",
   "metadata": {},
   "outputs": [
    {
     "name": "stdout",
     "output_type": "stream",
     "text": [
      "      anime_id                                               name  genre  \\\n",
      "0        32281                                     Kimi no Na wa.   2686   \n",
      "1132      8888  Code Geass: Boukoku no Akito 1 - Yokuryuu wa M...   1062   \n",
      "530      14349                              Little Witch Academia   1300   \n",
      "611      16904                                   K: Missing Kings   1189   \n",
      "1014      5204                 Kara no Kyoukai 6: Boukyaku Rokuon   1023   \n",
      "1828      4437                Naruto: Shippuuden Movie 2 - Kizuna   1049   \n",
      "596      21339                                  Psycho-Pass Movie   1106   \n",
      "623       2890                                Gake no Ue no Ponyo   1510   \n",
      "71         578                                     Hotaru no Haka   2524   \n",
      "18       12355                       Ookami Kodomo no Ame to Yuki   2867   \n",
      "\n",
      "      type episodes    rating   members  \n",
      "0        0        1  2.850577  3.330241  \n",
      "1132     0        1  1.172592  1.332283  \n",
      "530      0        1  1.506226  1.708032  \n",
      "611      0        1  1.447350  1.468076  \n",
      "1014     0        1  1.231469  1.381500  \n",
      "1828     0        1  0.946898  1.454741  \n",
      "596      0        1  1.457162  1.397443  \n",
      "623      0        1  1.437537  2.229280  \n",
      "71       0        1  2.075368  2.860473  \n",
      "18       0        1  2.330500  3.796562  \n"
     ]
    }
   ],
   "source": [
    "# Example usage\n",
    "target_anime_index = 0  # Replace with the index of the target anime\n",
    "recommended_anime = recommend_anime(target_anime_index)\n",
    "print(recommended_anime)\n"
   ]
  },
  {
   "cell_type": "code",
   "execution_count": 38,
   "id": "df943480-2728-40b4-b533-533bfed1e187",
   "metadata": {},
   "outputs": [],
   "source": [
    "# Evaluation\n",
    "X = data[features]\n",
    "y = data['rating']"
   ]
  },
  {
   "cell_type": "code",
   "execution_count": 39,
   "id": "1562d799-7359-42b4-9fda-5c8f67c72cc5",
   "metadata": {},
   "outputs": [],
   "source": [
    "# Split data into training and testing sets\n",
    "from sklearn.model_selection import train_test_split\n",
    "\n",
    "X_train, X_test, y_train, y_test = train_test_split(X, y, test_size=0.2, random_state=42)"
   ]
  },
  {
   "cell_type": "code",
   "execution_count": 44,
   "id": "6bdd1f4d-3ac0-4a03-9328-835d9f96e5cd",
   "metadata": {},
   "outputs": [
    {
     "name": "stdout",
     "output_type": "stream",
     "text": [
      "Mean Squared Error: 1.710703335250814e-05\n",
      "R-squared: 0.9999826568407814\n"
     ]
    }
   ],
   "source": [
    "\n",
    "from sklearn.metrics import mean_squared_error, r2_score\n",
    "from sklearn.ensemble import RandomForestRegressor\n",
    "model = RandomForestRegressor()\n",
    "model.fit(X_train, y_train)\n",
    "\n",
    "# Make predictions   \n",
    "\n",
    "y_pred = model.predict(X_test)\n",
    "\n",
    "# Calculate metrics\n",
    "mse = mean_squared_error(y_test, y_pred)\n",
    "r2 = r2_score(y_test, y_pred)\n",
    "\n",
    "print(\"Mean Squared Error:\", mse)\n",
    "print(\"R-squared:\",r2)\n"
   ]
  },
  {
   "cell_type": "code",
   "execution_count": null,
   "id": "64ce8437-7d56-4fe8-8218-ca7b1c1fcd42",
   "metadata": {},
   "outputs": [],
   "source": [
    "#Analyzing Model Performance\n",
    "#Mean Squared Error (MSE): 1.710703335250814e-05 is a very low value, indicating that the model's predictions are close to the actual values. This is a positive sign.\n",
    "#R-squared: 0.9999826568407814 is extremely close to 1, suggesting that the model explains a very high proportion of the variance in the target variable. This is also a positive sign."
   ]
  }
 ],
 "metadata": {
  "kernelspec": {
   "display_name": "Python 3 (ipykernel)",
   "language": "python",
   "name": "python3"
  },
  "language_info": {
   "codemirror_mode": {
    "name": "ipython",
    "version": 3
   },
   "file_extension": ".py",
   "mimetype": "text/x-python",
   "name": "python",
   "nbconvert_exporter": "python",
   "pygments_lexer": "ipython3",
   "version": "3.11.7"
  }
 },
 "nbformat": 4,
 "nbformat_minor": 5
}
