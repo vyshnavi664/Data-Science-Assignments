{
 "cells": [
  {
   "cell_type": "code",
   "execution_count": 6,
   "id": "ebbf3fab-6ec4-476f-a54d-333f88d86a8c",
   "metadata": {},
   "outputs": [
    {
     "data": {
      "text/plain": [
       "1.645"
      ]
     },
     "execution_count": 6,
     "metadata": {},
     "output_type": "execute_result"
    }
   ],
   "source": [
    "#value of alpha\n",
    "import scipy.stats as stats\n",
    "stats.norm.ppf(.95).round(3)\n",
    "\n"
   ]
  },
  {
   "cell_type": "code",
   "execution_count": 7,
   "id": "695f6d88-5510-4434-a942-c41b4d1418d3",
   "metadata": {},
   "outputs": [
    {
     "data": {
      "text/plain": [
       "1.881"
      ]
     },
     "execution_count": 7,
     "metadata": {},
     "output_type": "execute_result"
    }
   ],
   "source": [
    "#if two sides\n",
    "import scipy.stats as stats\n",
    "stats.norm.ppf(.97).round(3)"
   ]
  },
  {
   "cell_type": "code",
   "execution_count": 10,
   "id": "94ce0bb5-5178-4bcb-be35-87fdf6ba9c51",
   "metadata": {},
   "outputs": [
    {
     "name": "stdout",
     "output_type": "stream",
     "text": [
      "-1.3842421466872465\n"
     ]
    }
   ],
   "source": [
    "import pandas as pd\n",
    "df=pd.read_csv('Lungcapdata.csv')\n",
    "from statsmodels.stats import weightstats\n",
    "zstat,pvalue=weightstats.ztest(df['LungCap'],value=8)\n",
    "print(zstat)"
   ]
  },
  {
   "cell_type": "code",
   "execution_count": 11,
   "id": "12441d37-88a2-4e39-92d1-2794d51effd3",
   "metadata": {},
   "outputs": [
    {
     "name": "stdout",
     "output_type": "stream",
     "text": [
      "H1 reject,H0 accept\n"
     ]
    }
   ],
   "source": [
    "if pvalue<0.05:\n",
    "    print(\"H0 reject,H1 accept\")\n",
    "else:\n",
    "    print(\"H1 reject,H0 accept\")"
   ]
  },
  {
   "cell_type": "code",
   "execution_count": null,
   "id": "b953d63b-2c2a-4d2b-aef3-8bcc600c75b7",
   "metadata": {},
   "outputs": [],
   "source": []
  }
 ],
 "metadata": {
  "kernelspec": {
   "display_name": "Python 3 (ipykernel)",
   "language": "python",
   "name": "python3"
  },
  "language_info": {
   "codemirror_mode": {
    "name": "ipython",
    "version": 3
   },
   "file_extension": ".py",
   "mimetype": "text/x-python",
   "name": "python",
   "nbconvert_exporter": "python",
   "pygments_lexer": "ipython3",
   "version": "3.11.7"
  }
 },
 "nbformat": 4,
 "nbformat_minor": 5
}
