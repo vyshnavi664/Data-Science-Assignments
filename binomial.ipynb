{
 "cells": [
  {
   "cell_type": "code",
   "execution_count": 7,
   "id": "dff8b146-840f-4471-875b-a9d70c484508",
   "metadata": {},
   "outputs": [
    {
     "data": {
      "text/plain": [
       "0.20133"
      ]
     },
     "execution_count": 7,
     "metadata": {},
     "output_type": "execute_result"
    }
   ],
   "source": [
    "#exactly 7\n",
    "from scipy.stats import binom\n",
    "bi=binom(n=10,p=0.8)\n",
    "x=bi.pmf(7)\n",
    "x.round(2)"
   ]
  },
  {
   "cell_type": "code",
   "execution_count": 8,
   "id": "ed4d2dff-9faa-484e-9a49-921aafd5a305",
   "metadata": {},
   "outputs": [
    {
     "data": {
      "text/plain": [
       "0.35"
      ]
     },
     "execution_count": 8,
     "metadata": {},
     "output_type": "execute_result"
    }
   ],
   "source": [
    "from scipy.stats import binom\n",
    "bi=binom(n=5,p=0.6)\n",
    "#exactly 3\n",
    "x2=bi.pmf(3)\n",
    "x2.round(2)"
   ]
  },
  {
   "cell_type": "code",
   "execution_count": 9,
   "id": "57800efc-3b56-4db0-9e6a-3261807fb840",
   "metadata": {},
   "outputs": [
    {
     "data": {
      "text/plain": [
       "0.31744000000000006"
      ]
     },
     "execution_count": 9,
     "metadata": {},
     "output_type": "execute_result"
    }
   ],
   "source": [
    "#Atmost 2\n",
    "from scipy.stats import binom\n",
    "x3=binom(n=5,p=0.6)\n",
    "x3=bi.cdf(2)\n",
    "x3"
   ]
  },
  {
   "cell_type": "code",
   "execution_count": 10,
   "id": "bbd1c70c-cba0-4ad5-96db-4a020018292d",
   "metadata": {},
   "outputs": [
    {
     "data": {
      "text/plain": [
       "0.68256"
      ]
     },
     "execution_count": 10,
     "metadata": {},
     "output_type": "execute_result"
    }
   ],
   "source": [
    "#atleast 3\n",
    "x4=1-x3\n",
    "x4"
   ]
  },
  {
   "cell_type": "code",
   "execution_count": 13,
   "id": "ecbd731d-b0ce-43dd-9e51-10589b735e41",
   "metadata": {},
   "outputs": [
    {
     "data": {
      "text/plain": [
       "0.983"
      ]
     },
     "execution_count": 13,
     "metadata": {},
     "output_type": "execute_result"
    }
   ],
   "source": [
    "from scipy.stats import binom\n",
    "bi=binom(n=250,p=0.7)\n",
    "v=bi.cdf(159)\n",
    "v1=1-v\n",
    "v1.round(3)"
   ]
  },
  {
   "cell_type": "code",
   "execution_count": null,
   "id": "d828e838-cd37-4d24-bb45-4bfcd15a3b05",
   "metadata": {},
   "outputs": [],
   "source": []
  }
 ],
 "metadata": {
  "kernelspec": {
   "display_name": "Python 3 (ipykernel)",
   "language": "python",
   "name": "python3"
  },
  "language_info": {
   "codemirror_mode": {
    "name": "ipython",
    "version": 3
   },
   "file_extension": ".py",
   "mimetype": "text/x-python",
   "name": "python",
   "nbconvert_exporter": "python",
   "pygments_lexer": "ipython3",
   "version": "3.11.7"
  }
 },
 "nbformat": 4,
 "nbformat_minor": 5
}
