{
 "cells": [
  {
   "cell_type": "code",
   "execution_count": 3,
   "id": "cad9299d-7ad7-46e3-ba67-3cea9181a45f",
   "metadata": {},
   "outputs": [],
   "source": [
    "import pandas as pd\n",
    "import numpy as np\n",
    "import matplotlib.pyplot as plt\n",
    "from sklearn.model_selection import train_test_split\n",
    "from sklearn.neighbors import KNeighborsClassifier\n",
    "from sklearn.metrics import accuracy_score, precision_score, recall_score,f1_score, roc_curve, auc\n"
   ]
  },
  {
   "cell_type": "code",
   "execution_count": 4,
   "id": "9a8a2535-1d04-4967-97cc-1dc2e5b4c886",
   "metadata": {},
   "outputs": [],
   "source": [
    "# Load the data \n",
    "data = pd.read_csv('Zoo.csv')"
   ]
  },
  {
   "cell_type": "code",
   "execution_count": 5,
   "id": "f4325dd9-eaf4-4b4a-a60b-e1799d3c4028",
   "metadata": {},
   "outputs": [
    {
     "name": "stdout",
     "output_type": "stream",
     "text": [
      "             hair    feathers        eggs        milk    airborne     aquatic  \\\n",
      "count  101.000000  101.000000  101.000000  101.000000  101.000000  101.000000   \n",
      "mean     0.425743    0.198020    0.584158    0.405941    0.237624    0.356436   \n",
      "std      0.496921    0.400495    0.495325    0.493522    0.427750    0.481335   \n",
      "min      0.000000    0.000000    0.000000    0.000000    0.000000    0.000000   \n",
      "25%      0.000000    0.000000    0.000000    0.000000    0.000000    0.000000   \n",
      "50%      0.000000    0.000000    1.000000    0.000000    0.000000    0.000000   \n",
      "75%      1.000000    0.000000    1.000000    1.000000    0.000000    1.000000   \n",
      "max      1.000000    1.000000    1.000000    1.000000    1.000000    1.000000   \n",
      "\n",
      "         predator     toothed    backbone    breathes    venomous        fins  \\\n",
      "count  101.000000  101.000000  101.000000  101.000000  101.000000  101.000000   \n",
      "mean     0.554455    0.603960    0.821782    0.792079    0.079208    0.168317   \n",
      "std      0.499505    0.491512    0.384605    0.407844    0.271410    0.376013   \n",
      "min      0.000000    0.000000    0.000000    0.000000    0.000000    0.000000   \n",
      "25%      0.000000    0.000000    1.000000    1.000000    0.000000    0.000000   \n",
      "50%      1.000000    1.000000    1.000000    1.000000    0.000000    0.000000   \n",
      "75%      1.000000    1.000000    1.000000    1.000000    0.000000    0.000000   \n",
      "max      1.000000    1.000000    1.000000    1.000000    1.000000    1.000000   \n",
      "\n",
      "             legs        tail    domestic     catsize        type  \n",
      "count  101.000000  101.000000  101.000000  101.000000  101.000000  \n",
      "mean     2.841584    0.742574    0.128713    0.435644    2.831683  \n",
      "std      2.033385    0.439397    0.336552    0.498314    2.102709  \n",
      "min      0.000000    0.000000    0.000000    0.000000    1.000000  \n",
      "25%      2.000000    0.000000    0.000000    0.000000    1.000000  \n",
      "50%      4.000000    1.000000    0.000000    0.000000    2.000000  \n",
      "75%      4.000000    1.000000    0.000000    1.000000    4.000000  \n",
      "max      8.000000    1.000000    1.000000    1.000000    7.000000  \n",
      "<class 'pandas.core.frame.DataFrame'>\n",
      "RangeIndex: 101 entries, 0 to 100\n",
      "Data columns (total 18 columns):\n",
      " #   Column       Non-Null Count  Dtype \n",
      "---  ------       --------------  ----- \n",
      " 0   animal name  101 non-null    object\n",
      " 1   hair         101 non-null    int64 \n",
      " 2   feathers     101 non-null    int64 \n",
      " 3   eggs         101 non-null    int64 \n",
      " 4   milk         101 non-null    int64 \n",
      " 5   airborne     101 non-null    int64 \n",
      " 6   aquatic      101 non-null    int64 \n",
      " 7   predator     101 non-null    int64 \n",
      " 8   toothed      101 non-null    int64 \n",
      " 9   backbone     101 non-null    int64 \n",
      " 10  breathes     101 non-null    int64 \n",
      " 11  venomous     101 non-null    int64 \n",
      " 12  fins         101 non-null    int64 \n",
      " 13  legs         101 non-null    int64 \n",
      " 14  tail         101 non-null    int64 \n",
      " 15  domestic     101 non-null    int64 \n",
      " 16  catsize      101 non-null    int64 \n",
      " 17  type         101 non-null    int64 \n",
      "dtypes: int64(17), object(1)\n",
      "memory usage: 14.3+ KB\n",
      "None\n"
     ]
    }
   ],
   "source": [
    "# Exploratory Data Analysis (EDA)\n",
    "print(data.describe())\n",
    "print(data.info())"
   ]
  },
  {
   "cell_type": "code",
   "execution_count": 6,
   "id": "da6fa684-d250-4b5e-afad-bf58bc002188",
   "metadata": {},
   "outputs": [],
   "source": [
    "# Handle outliers (e.g., using IQR method)\n",
    "Q1 = data['hair'].quantile(0.25)\n",
    "Q3 = data['hair'].quantile(0.75)\n",
    "IQR = Q3 - Q1\n",
    "lower_bound = Q1 - 1.5 * IQR\n",
    "upper_bound = Q3 + 1.5 * IQR\n",
    "data = data[(data['hair'] >= lower_bound) & (data['hair'] <= upper_bound)]\n"
   ]
  },
  {
   "cell_type": "code",
   "execution_count": 7,
   "id": "1fa57cd9-7340-4288-8d75-e968a22a3739",
   "metadata": {},
   "outputs": [],
   "source": [
    "data['animal name'] = pd.to_numeric(data['animal name'], errors='coerce')"
   ]
  },
  {
   "cell_type": "code",
   "execution_count": 8,
   "id": "8f4b7580-525f-4d5d-9e5b-96d4745d951d",
   "metadata": {},
   "outputs": [],
   "source": [
    "# Split the data into features (X) and target (y)\n",
    "X = data.iloc[1:, :-1]\n",
    "y = data.iloc[1:, -1]"
   ]
  },
  {
   "cell_type": "code",
   "execution_count": 9,
   "id": "3d5b4bf5-9578-4908-a5b6-625186bfb966",
   "metadata": {},
   "outputs": [],
   "source": [
    "# Split into training and testing sets\n",
    "X_train, X_test, y_train, y_test = train_test_split(X, y, test_size=0.2, random_state=42)"
   ]
  },
  {
   "cell_type": "code",
   "execution_count": 10,
   "id": "d6ddb3ba-91b2-48f7-a519-e58281829356",
   "metadata": {},
   "outputs": [],
   "source": [
    "# K-Nearest Neighbors Classifier\n",
    "knn = KNeighborsClassifier(n_neighbors=3,metric='euclidean')"
   ]
  },
  {
   "cell_type": "code",
   "execution_count": 11,
   "id": "e5f2a41b-4700-4f10-b11f-ed6af7315c48",
   "metadata": {},
   "outputs": [],
   "source": [
    "from sklearn.impute import SimpleImputer\n",
    "\n",
    "# Create an imputer object \n",
    "imputer = SimpleImputer(strategy='mean')\n",
    "\n",
    "# Impute missing values in X_train\n",
    "X_train_imputed = imputer.fit_transform(X_train)\n",
    "\n",
    "# Train the model with imputed data\n",
    "model=knn.fit(X_train_imputed, y_train)"
   ]
  },
  {
   "cell_type": "code",
   "execution_count": 12,
   "id": "4014fc4c-cb63-4e3d-8eb1-fbbe3f3b4885",
   "metadata": {},
   "outputs": [],
   "source": [
    "# Impute missing values in X_train\n",
    "X_test_imputed = imputer.transform(X_test)\n",
    "\n",
    "# Predict on the testing set\n",
    "y_pred = knn.predict(X_test_imputed)\n"
   ]
  },
  {
   "cell_type": "code",
   "execution_count": 13,
   "id": "0e842425-e463-4676-ad16-3f51fe60e50f",
   "metadata": {},
   "outputs": [],
   "source": [
    "accuracy = accuracy_score(y_test, y_pred)\n",
    "precision_micro = precision_score(y_test, y_pred, average='micro')\n",
    "precision_macro = precision_score(y_test, y_pred, average='macro')\n",
    "precision_weighted = precision_score(y_test, y_pred, average='weighted')\n"
   ]
  },
  {
   "cell_type": "code",
   "execution_count": 14,
   "id": "1f440036-ea01-4d0c-b245-4a7c348ac7cf",
   "metadata": {},
   "outputs": [
    {
     "name": "stderr",
     "output_type": "stream",
     "text": [
      "C:\\ProgramData\\anaconda3\\Lib\\site-packages\\sklearn\\metrics\\_classification.py:1344: UndefinedMetricWarning: Recall is ill-defined and being set to 0.0 in labels with no true samples. Use `zero_division` parameter to control this behavior.\n",
      "  _warn_prf(average, modifier, msg_start, len(result))\n",
      "C:\\ProgramData\\anaconda3\\Lib\\site-packages\\sklearn\\metrics\\_classification.py:1344: UndefinedMetricWarning: Recall is ill-defined and being set to 0.0 in labels with no true samples. Use `zero_division` parameter to control this behavior.\n",
      "  _warn_prf(average, modifier, msg_start, len(result))\n"
     ]
    }
   ],
   "source": [
    "recall_micro = recall_score(y_test, y_pred, average='micro')\n",
    "recall_macro = recall_score(y_test, y_pred, average='macro')\n",
    "recall_weighted = recall_score(y_test, y_pred, average='weighted') \n"
   ]
  },
  {
   "cell_type": "code",
   "execution_count": 15,
   "id": "1e80a1d5-7610-4987-812f-5bad9c62ab7d",
   "metadata": {},
   "outputs": [],
   "source": [
    "f1_micro = f1_score(y_test, y_pred, average='micro')\n",
    "f1_macro = f1_score(y_test, y_pred, average='macro') \n",
    "f1_weighted = f1_score(y_test, y_pred, average='weighted')"
   ]
  },
  {
   "cell_type": "code",
   "execution_count": 16,
   "id": "a1c816bb-44bf-401b-a6fc-4ed85b6e9f73",
   "metadata": {},
   "outputs": [
    {
     "name": "stdout",
     "output_type": "stream",
     "text": [
      "Accuracy: 0.7\n",
      "Precision(micro): 0.7\n",
      "Precision (macro): 0.6190476190476192\n",
      "Precision (weighted): 0.9166666666666667\n",
      "Recall (micro): 0.7\n",
      "Recall (macro): 0.5753968253968254\n",
      "Recall (weighted): 0.7\n",
      "F1-score (micro): 0.7\n",
      "F1-score (macro): 0.5392857142857143\n",
      "F1-score (weighted): 0.74875\n"
     ]
    }
   ],
   "source": [
    "print(\"Accuracy:\", accuracy)\n",
    "print(\"Precision(micro):\", precision_micro)\n",
    "print(\"Precision (macro):\", precision_macro)\n",
    "print(\"Precision (weighted):\", precision_weighted)\n",
    "\n",
    "print(\"Recall (micro):\", recall_micro)\n",
    "print(\"Recall (macro):\", recall_macro)\n",
    "print(\"Recall (weighted):\", recall_weighted)\n",
    "\n",
    "print(\"F1-score (micro):\", f1_micro)\n",
    "print(\"F1-score (macro):\", f1_macro)\n",
    "print(\"F1-score (weighted):\", f1_weighted)"
   ]
  },
  {
   "cell_type": "code",
   "execution_count": 17,
   "id": "bced6acc-4e9d-47b0-9793-eb734ddb9e6c",
   "metadata": {},
   "outputs": [
    {
     "data": {
      "image/png": "[encoded data removed]",
      "text/plain": [
       "<Figure size 800x600 with 2 Axes>"
      ]
     },
     "metadata": {},
     "output_type": "display_data"
    }
   ],
   "source": [
    "import seaborn as sns\n",
    "from sklearn.metrics import confusion_matrix\n",
    "\n",
    "\n",
    "\n",
    "# Create confusion matrix\n",
    "conf_matrix = confusion_matrix(y_test, y_pred)\n",
    "\n",
    "# Visualize confusion matrix\n",
    "plt.figure(figsize=(8, 6))\n",
    "sns.heatmap(conf_matrix, annot=True,cmap='Blues', fmt='d')\n",
    "plt.title('Confusion Matrix')\n",
    "plt.xlabel('Predicted Labels')\n",
    "plt.ylabel('TrueLabels')\n",
    "plt.show()"
   ]
  },
  {
   "cell_type": "code",
   "execution_count": null,
   "id": "c21dec43-d595-4708-a091-77533562d615",
   "metadata": {},
   "outputs": [],
   "source": []
  }
 ],
 "metadata": {
  "kernelspec": {
   "display_name": "Python 3 (ipykernel)",
   "language": "python",
   "name": "python3"
  },
  "language_info": {
   "codemirror_mode": {
    "name": "ipython",
    "version": 3
   },
   "file_extension": ".py",
   "mimetype": "text/x-python",
   "name": "python",
   "nbconvert_exporter": "python",
   "pygments_lexer": "ipython3",
   "version": "3.11.7"
  }
 },
 "nbformat": 4,
 "nbformat_minor": 5
}
